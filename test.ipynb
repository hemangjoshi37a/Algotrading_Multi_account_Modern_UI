{
 "cells": [
  {
   "cell_type": "markdown",
   "id": "9f5dce74",
   "metadata": {},
   "source": [
    "# Chapter 05: Send orders\n",
    "\n",
    "📈Join our community: https://discord.gg/wXjNPAc5BH\n",
    "\n",
    "📚Read our book: https://www.amazon.com/gp/product/B09HG18CYL \n",
    "\n",
    "🖥️Quantreo's YouTube channel: https://www.youtube.com/channel/UCp7jckfiEglNf_Gj62VR0pw"
   ]
  },
  {
   "cell_type": "code",
   "execution_count": 1,
   "id": "3b703815",
   "metadata": {},
   "outputs": [],
   "source": [
    "# Import the libraries\n",
    "import MetaTrader5 as mt5\n",
    "from datetime import datetime"
   ]
  },
  {
   "cell_type": "code",
   "execution_count": 2,
   "id": "21576678",
   "metadata": {},
   "outputs": [
    {
     "data": {
      "text/plain": [
       "True"
      ]
     },
     "execution_count": 2,
     "metadata": {},
     "output_type": "execute_result"
    }
   ],
   "source": [
    "# Create the bound between MT5 and Python\n",
    "mt5.initialize()"
   ]
  },
  {
   "cell_type": "markdown",
   "id": "54b5fa01",
   "metadata": {},
   "source": [
    "### Send buy order\n",
    "https://www.mql5.com/fr/docs/integration/python_metatrader5/mt5ordercheck_py"
   ]
  },
  {
   "cell_type": "code",
   "execution_count": 3,
   "id": "8d9c146d",
   "metadata": {},
   "outputs": [
    {
     "data": {
      "text/plain": [
       "OrderCheckResult(retcode=0, balance=10000.0, equity=10000.0, profit=0.0, margin=10.78, margin_free=9989.22, margin_level=92764.37847866419, comment='Done', request=TradeRequest(action=1, magic=0, order=0, symbol='EURUSD', volume=0.01, price=1.07768, stoplimit=0.0, sl=0.0, tp=0.0, deviation=10, type=0, type_filling=1, type_time=0, expiration=0, comment='', position=0, position_by=0))"
      ]
     },
     "execution_count": 3,
     "metadata": {},
     "output_type": "execute_result"
    }
   ],
   "source": [
    "# Place buy order\n",
    "\n",
    "# Initialization value\n",
    "symbol = \"EURUSD\"\n",
    "lot = 0.01\n",
    "\n",
    "# Choose the deviation\n",
    "deviation = 10\n",
    "\n",
    "# Find the filling mode of symbol\n",
    "filling_type = mt5.symbol_info(symbol).filling_mode\n",
    "\n",
    "# Create dictionnary request\n",
    "request = {\n",
    "    \"action\": mt5.TRADE_ACTION_DEAL,\n",
    "    \"symbol\": symbol,\n",
    "    \"volume\": lot,\n",
    "    \"type\": mt5.ORDER_TYPE_BUY,\n",
    "    \"price\": mt5.symbol_info_tick(symbol).ask,\n",
    "    \"deviation\": deviation,\n",
    "    \"type_filling\": filling_type,\n",
    "    \"type_time\": mt5.ORDER_TIME_GTC\n",
    "}\n",
    "\n",
    "\n",
    "mt5.order_check(request)"
   ]
  },
  {
   "cell_type": "code",
   "execution_count": 4,
   "id": "bf3df3eb",
   "metadata": {},
   "outputs": [
    {
     "data": {
      "text/plain": [
       "OrderSendResult(retcode=10027, deal=0, order=0, volume=0.0, price=0.0, bid=0.0, ask=0.0, comment='AutoTrading disabled by client', request_id=0, retcode_external=0, request=TradeRequest(action=1, magic=0, order=0, symbol='EURUSD', volume=0.01, price=1.07768, stoplimit=0.0, sl=0.0, tp=0.0, deviation=10, type=0, type_filling=1, type_time=0, expiration=0, comment='', position=0, position_by=0))"
      ]
     },
     "execution_count": 4,
     "metadata": {},
     "output_type": "execute_result"
    }
   ],
   "source": [
    "request = {\n",
    "    \"action\": mt5.TRADE_ACTION_DEAL,\n",
    "    \"symbol\": symbol,\n",
    "    \"volume\": lot,\n",
    "    \"type\": mt5.ORDER_TYPE_BUY,\n",
    "    \"price\": mt5.symbol_info_tick(symbol).ask,\n",
    "    \"deviation\": deviation,\n",
    "    \"type_filling\": filling_type,\n",
    "    \"type_time\": mt5.ORDER_TIME_GTC\n",
    "}\n",
    "\n",
    "mt5.order_send(request)"
   ]
  },
  {
   "cell_type": "markdown",
   "id": "8b564ed8",
   "metadata": {},
   "source": [
    "### Place sell order"
   ]
  },
  {
   "cell_type": "code",
   "execution_count": 5,
   "id": "0ca111bc",
   "metadata": {},
   "outputs": [
    {
     "data": {
      "text/plain": [
       "OrderSendResult(retcode=10027, deal=0, order=0, volume=0.0, price=0.0, bid=0.0, ask=0.0, comment='AutoTrading disabled by client', request_id=0, retcode_external=0, request=TradeRequest(action=1, magic=0, order=0, symbol='EURUSD', volume=0.01, price=1.07728, stoplimit=0.0, sl=0.0, tp=0.0, deviation=10, type=1, type_filling=1, type_time=0, expiration=0, comment='', position=0, position_by=0))"
      ]
     },
     "execution_count": 5,
     "metadata": {},
     "output_type": "execute_result"
    }
   ],
   "source": [
    "request = {\n",
    "    \"action\": mt5.TRADE_ACTION_DEAL,\n",
    "    \"symbol\": symbol,\n",
    "    \"volume\": lot,\n",
    "    \"type\": mt5.ORDER_TYPE_SELL,\n",
    "    \"price\": mt5.symbol_info_tick(symbol).bid,\n",
    "    \"deviation\": deviation,\n",
    "    \"type_filling\": filling_type,\n",
    "    \"type_time\": mt5.ORDER_TIME_GTC\n",
    "}\n",
    "\n",
    "mt5.order_send(request)"
   ]
  },
  {
   "cell_type": "markdown",
   "id": "80ed8f72",
   "metadata": {},
   "source": [
    "### Close buy order"
   ]
  },
  {
   "cell_type": "code",
   "execution_count": 6,
   "id": "c250ccf7",
   "metadata": {},
   "outputs": [
    {
     "data": {
      "text/plain": [
       "OrderSendResult(retcode=10027, deal=0, order=0, volume=0.0, price=0.0, bid=0.0, ask=0.0, comment='AutoTrading disabled by client', request_id=0, retcode_external=0, request=TradeRequest(action=1, magic=0, order=0, symbol='EURUSD', volume=0.01, price=1.07728, stoplimit=0.0, sl=0.0, tp=0.0, deviation=10, type=1, type_filling=1, type_time=0, expiration=0, comment='', position=50067383081, position_by=0))"
      ]
     },
     "execution_count": 6,
     "metadata": {},
     "output_type": "execute_result"
    }
   ],
   "source": [
    "request = {\n",
    "    \"action\": mt5.TRADE_ACTION_DEAL,\n",
    "    \"symbol\": symbol,\n",
    "    \"position\":50067383081,\n",
    "    \"volume\": lot,\n",
    "    \"type\": mt5.ORDER_TYPE_SELL,\n",
    "    \"price\": mt5.symbol_info_tick(symbol).bid,\n",
    "    \"deviation\": deviation,\n",
    "    \"type_filling\": filling_type,\n",
    "    \"type_time\": mt5.ORDER_TIME_GTC\n",
    "}\n",
    "\n",
    "mt5.order_send(request)"
   ]
  },
  {
   "cell_type": "code",
   "execution_count": null,
   "id": "b9b8e549",
   "metadata": {},
   "outputs": [],
   "source": []
  },
  {
   "cell_type": "markdown",
   "id": "da90ca87",
   "metadata": {},
   "source": [
    "### Close sell order"
   ]
  },
  {
   "cell_type": "code",
   "execution_count": 7,
   "id": "9c9e8bea",
   "metadata": {},
   "outputs": [
    {
     "data": {
      "text/plain": [
       "OrderSendResult(retcode=10027, deal=0, order=0, volume=0.0, price=0.0, bid=0.0, ask=0.0, comment='AutoTrading disabled by client', request_id=0, retcode_external=0, request=TradeRequest(action=1, magic=0, order=0, symbol='EURUSD', volume=0.01, price=1.07768, stoplimit=0.0, sl=0.0, tp=0.0, deviation=10, type=0, type_filling=1, type_time=0, expiration=0, comment='', position=50067384583, position_by=0))"
      ]
     },
     "execution_count": 7,
     "metadata": {},
     "output_type": "execute_result"
    }
   ],
   "source": [
    "request = {\n",
    "    \"action\": mt5.TRADE_ACTION_DEAL,\n",
    "    \"symbol\": symbol,\n",
    "    \"position\":50067384583,\n",
    "    \"volume\": lot,\n",
    "    \"type\": mt5.ORDER_TYPE_BUY,\n",
    "    \"price\": mt5.symbol_info_tick(symbol).ask,\n",
    "    \"deviation\": deviation,\n",
    "    \"type_filling\": filling_type,\n",
    "    \"type_time\": mt5.ORDER_TIME_GTC\n",
    "}\n",
    "\n",
    "mt5.order_send(request)"
   ]
  },
  {
   "cell_type": "code",
   "execution_count": null,
   "id": "e49690c0",
   "metadata": {},
   "outputs": [],
   "source": []
  },
  {
   "cell_type": "markdown",
   "id": "5c33cab2",
   "metadata": {},
   "source": [
    "### Automate the process"
   ]
  },
  {
   "cell_type": "code",
   "execution_count": 8,
   "id": "2bfc8a0b",
   "metadata": {},
   "outputs": [],
   "source": [
    "def send_order(symbol, lot, buy, sell, id_position=None, comment=\" No specific comment\", magic=0):\n",
    "    \n",
    "    # Initialize the bound between MT5 and Python\n",
    "    mt5.initialize()\n",
    "    \n",
    "    # Extract filling_mode\n",
    "    filling_type = mt5.symbol_info(symbol).filling_mode\n",
    "    \n",
    "    \n",
    "    \"\"\" OPEN A TRADE \"\"\"\n",
    "    if buy and id_position==None:\n",
    "        request = {\n",
    "        \"action\": mt5.TRADE_ACTION_DEAL,\n",
    "        \"symbol\": symbol,\n",
    "        \"volume\": lot,\n",
    "        \"type\": mt5.ORDER_TYPE_BUY,\n",
    "        \"price\": mt5.symbol_info_tick(symbol).ask,\n",
    "        \"deviation\": 10,\n",
    "        \"magic\": magic,\n",
    "        \"comment\": comment,\n",
    "        \"type_filling\": filling_type,\n",
    "        \"type_time\": mt5.ORDER_TIME_GTC}\n",
    "        \n",
    "        result = mt5.order_send(request)\n",
    "        return result\n",
    "        \n",
    "    if sell and id_position==None:\n",
    "        request = {\n",
    "        \"action\": mt5.TRADE_ACTION_DEAL,\n",
    "        \"symbol\": symbol,\n",
    "        \"volume\": lot,\n",
    "        \"type\": mt5.ORDER_TYPE_SELL,\n",
    "        \"price\": mt5.symbol_info_tick(symbol).bid,\n",
    "        \"deviation\": 10,\n",
    "        \"magic\": magic,\n",
    "        \"comment\": comment,\n",
    "        \"type_filling\": filling_type,\n",
    "        \"type_time\": mt5.ORDER_TIME_GTC}\n",
    "        \n",
    "        result = mt5.order_send(request)\n",
    "        return result\n",
    "    \n",
    "    \n",
    "    \"\"\" CLOSE A TRADE \"\"\"\n",
    "    if buy and id_position!=None:\n",
    "        request = {\n",
    "        \"position\": id_position,\n",
    "        \"action\": mt5.TRADE_ACTION_DEAL,\n",
    "        \"symbol\": symbol,\n",
    "        \"volume\": lot,\n",
    "        \"type\": mt5.ORDER_TYPE_SELL,\n",
    "        \"price\": mt5.symbol_info_tick(symbol).bid,\n",
    "        \"deviation\": 10,\n",
    "        \"magic\": magic,\n",
    "        \"comment\": comment,\n",
    "        \"type_filling\": filling_type,\n",
    "        \"type_time\": mt5.ORDER_TIME_GTC}\n",
    "        \n",
    "        result = mt5.order_send(request)\n",
    "        return result\n",
    "        \n",
    "    if sell and id_position!=None:\n",
    "        request = {\n",
    "        \"position\": id_position,\n",
    "        \"action\": mt5.TRADE_ACTION_DEAL,\n",
    "        \"symbol\": symbol,\n",
    "        \"volume\": lot,\n",
    "        \"type\": mt5.ORDER_TYPE_BUY,\n",
    "        \"price\": mt5.symbol_info_tick(symbol).ask,\n",
    "        \"deviation\": 10,\n",
    "        \"magic\": magic,\n",
    "        \"comment\": comment,\n",
    "        \"type_filling\": filling_type,\n",
    "        \"type_time\": mt5.ORDER_TIME_GTC}\n",
    "        \n",
    "        result = mt5.order_send(request)\n",
    "        return result\n",
    "    \n"
   ]
  },
  {
   "cell_type": "code",
   "execution_count": 9,
   "id": "11cc36ae",
   "metadata": {},
   "outputs": [
    {
     "data": {
      "text/plain": [
       "OrderSendResult(retcode=10027, deal=0, order=0, volume=0.0, price=0.0, bid=0.0, ask=0.0, comment='AutoTrading disabled by client', request_id=0, retcode_external=0, request=TradeRequest(action=1, magic=0, order=0, symbol='EURUSD', volume=0.01, price=1.07768, stoplimit=0.0, sl=0.0, tp=0.0, deviation=10, type=0, type_filling=1, type_time=0, expiration=0, comment=' No specific comment', position=0, position_by=0))"
      ]
     },
     "execution_count": 9,
     "metadata": {},
     "output_type": "execute_result"
    }
   ],
   "source": [
    "information = send_order(\"EURUSD\", 0.01, True, False)\n",
    "information"
   ]
  },
  {
   "cell_type": "code",
   "execution_count": 10,
   "id": "cb5d427d",
   "metadata": {},
   "outputs": [
    {
     "data": {
      "text/plain": [
       "OrderSendResult(retcode=10027, deal=0, order=0, volume=0.0, price=0.0, bid=0.0, ask=0.0, comment='AutoTrading disabled by client', request_id=0, retcode_external=0, request=TradeRequest(action=1, magic=0, order=0, symbol='EURUSD', volume=0.01, price=1.07728, stoplimit=0.0, sl=0.0, tp=0.0, deviation=10, type=1, type_filling=1, type_time=0, expiration=0, comment=' No specific comment', position=0, position_by=0))"
      ]
     },
     "execution_count": 10,
     "metadata": {},
     "output_type": "execute_result"
    }
   ],
   "source": [
    "send_order(\"EURUSD\", 0.01, True, False, id_position=information.order)"
   ]
  },
  {
   "cell_type": "code",
   "execution_count": null,
   "id": "e76787d2",
   "metadata": {},
   "outputs": [],
   "source": []
  },
  {
   "cell_type": "code",
   "execution_count": null,
   "id": "41c2e91b",
   "metadata": {},
   "outputs": [],
   "source": []
  },
  {
   "cell_type": "code",
   "execution_count": null,
   "id": "a23afbab",
   "metadata": {},
   "outputs": [],
   "source": []
  },
  {
   "cell_type": "code",
   "execution_count": null,
   "id": "bb9b79b6",
   "metadata": {},
   "outputs": [],
   "source": []
  },
  {
   "cell_type": "code",
   "execution_count": null,
   "id": "5984b8dc",
   "metadata": {},
   "outputs": [],
   "source": []
  },
  {
   "cell_type": "code",
   "execution_count": 11,
   "id": "28e485c2",
   "metadata": {},
   "outputs": [
    {
     "ename": "ModuleNotFoundError",
     "evalue": "No module named 'Personal_MT5_library'",
     "output_type": "error",
     "traceback": [
      "\u001b[1;31m---------------------------------------------------------------------------\u001b[0m",
      "\u001b[1;31mModuleNotFoundError\u001b[0m                       Traceback (most recent call last)",
      "Input \u001b[1;32mIn [11]\u001b[0m, in \u001b[0;36m<cell line: 6>\u001b[1;34m()\u001b[0m\n\u001b[0;32m      3\u001b[0m \u001b[38;5;28;01mimport\u001b[39;00m \u001b[38;5;21;01mnumpy\u001b[39;00m \u001b[38;5;28;01mas\u001b[39;00m \u001b[38;5;21;01mnp\u001b[39;00m\n\u001b[0;32m      5\u001b[0m \u001b[38;5;28;01mimport\u001b[39;00m \u001b[38;5;21;01mtime\u001b[39;00m\n\u001b[1;32m----> 6\u001b[0m \u001b[38;5;28;01mfrom\u001b[39;00m \u001b[38;5;21;01mPersonal_MT5_library\u001b[39;00m \u001b[38;5;28;01mimport\u001b[39;00m \u001b[38;5;241m*\u001b[39m\n\u001b[0;32m      7\u001b[0m \u001b[38;5;28;01mfrom\u001b[39;00m \u001b[38;5;21;01mdatetime\u001b[39;00m \u001b[38;5;28;01mimport\u001b[39;00m datetime\n\u001b[0;32m     10\u001b[0m mt5\u001b[38;5;241m.\u001b[39minitialize()\n",
      "\u001b[1;31mModuleNotFoundError\u001b[0m: No module named 'Personal_MT5_library'"
     ]
    }
   ],
   "source": [
    "import MetaTrader5 as mt5\n",
    "import pandas as pd\n",
    "import numpy as np\n",
    "\n",
    "import time\n",
    "from Personal_MT5_library import *\n",
    "from datetime import datetime\n",
    "\n",
    "\n",
    "mt5.initialize()\n",
    "             \n",
    "def random(symbol):\n",
    "    values = [True, False]\n",
    "    buy = np.random.choice(values)\n",
    "    sell = not buy\n",
    "    \n",
    "    return buy, sell\n",
    "\n",
    "\n",
    "\n",
    "current_account_info = mt5.account_info()\n",
    "print(\"------------------------------------------------------------------\")\n",
    "print(f\"Login: {mt5.account_info().login} \\tserver: {mt5.account_info().server}\")\n",
    "print(f\"Date: {datetime.now().strftime('%Y-%m-%d %H:%M:%S')}\")\n",
    "print(f\"Balance: {current_account_info.balance} USD, \\t Equity: {current_account_info.equity} USD, \\t Profit: {current_account_info.profit} USD\")\n",
    "print(f\"Run time: {datetime.now().strftime('%Y-%m-%d %H:%M:%S')}\")\n",
    "print(\"------------------------------------------------------------------\")\n",
    "\n",
    "launching = [[0, \"00:15:59\"]\n",
    "            ]\n",
    "\n",
    "\n",
    "symbols_list = {\n",
    "    \"EURUSD\": [\"BTCUSD\", 0.2],\n",
    "   }\n",
    "\n",
    "\n",
    "while True:\n",
    "    \n",
    "    # TSL\n",
    "    MT5.trailing_stop_loss()\n",
    "    MT5.verif_tsl()\n",
    "    \n",
    "    # Launch the algorithm\n",
    "    # Verfication for launch\n",
    "    current_time = [datetime.now().weekday(), datetime.now().strftime(\"%H:%M:%S\")]\n",
    "    if current_time in launching:  \n",
    "        is_time = True\n",
    "    else:\n",
    "        is_time = False\n",
    "\n",
    "        \n",
    "    #is_time=True #Only to run the trading NOW\n",
    "        \n",
    "    if is_time:\n",
    "        # Open the trades\n",
    "\n",
    "        for asset in symbols_list.keys():\n",
    "            # Initialize the inputs\n",
    "            symbol = symbols_list[asset][0]\n",
    "            lot = symbols_list[asset][1]\n",
    "\n",
    "\n",
    "            # Attemp to enable the symbol in the MT5 MarketWatch\n",
    "            selected = mt5.symbol_select(symbol)\n",
    "            if not selected:\n",
    "                print(f\"\\nERROR - Failed to select '{symbol}' in MetaTrader 5 with error :\",mt5.last_error())\n",
    "                \n",
    "            else:     \n",
    "                # Create the signals\n",
    "                buy, sell = random(symbol)\n",
    "\n",
    "                # Run the algorithm\n",
    "                MT5.run(symbol, buy, sell, lot, pct_tp=0.1, pct_sl=0.05)\n"
   ]
  },
  {
   "cell_type": "code",
   "execution_count": 12,
   "id": "4d8ffa1b",
   "metadata": {},
   "outputs": [
    {
     "name": "stdout",
     "output_type": "stream",
     "text": [
      "MetaTrader5 package author:  MetaQuotes Ltd.\n",
      "MetaTrader5 package version:  5.0.45\n",
      "initialize() failed, error code = (-6, 'Terminal: Authorization failed')\n",
      "None\n",
      "(0, 0, '')\n"
     ]
    },
    {
     "data": {
      "text/plain": [
       "True"
      ]
     },
     "execution_count": 12,
     "metadata": {},
     "output_type": "execute_result"
    }
   ],
   "source": [
    "import MetaTrader5 as mt5\n",
    "# display data on the MetaTrader 5 package\n",
    "print(\"MetaTrader5 package author: \",mt5.__author__)\n",
    "print(\"MetaTrader5 package version: \",mt5.__version__)\n",
    " \n",
    "# establish MetaTrader 5 connection to a specified trading account\n",
    "if not mt5.initialize(login=25115284, server=\"MetaQuotes-Demo\",password=\"4zatlbqx\"):\n",
    "    print(\"initialize() failed, error code =\",mt5.last_error())\n",
    "    quit()\n",
    " \n",
    "# display data on connection status, server name and trading account\n",
    "print(mt5.terminal_info())\n",
    "# display data on MetaTrader 5 version\n",
    "print(mt5.version())\n",
    "\n",
    "# shut down connection to the MetaTrader 5 terminal\n",
    "mt5.shutdown()"
   ]
  },
  {
   "cell_type": "code",
   "execution_count": null,
   "id": "fb8dcfc7",
   "metadata": {},
   "outputs": [],
   "source": []
  }
 ],
 "metadata": {
  "kernelspec": {
   "display_name": "Python 3 (ipykernel)",
   "language": "python",
   "name": "python3"
  },
  "language_info": {
   "codemirror_mode": {
    "name": "ipython",
    "version": 3
   },
   "file_extension": ".py",
   "mimetype": "text/x-python",
   "name": "python",
   "nbconvert_exporter": "python",
   "pygments_lexer": "ipython3",
   "version": "3.8.10"
  }
 },
 "nbformat": 4,
 "nbformat_minor": 5
}
